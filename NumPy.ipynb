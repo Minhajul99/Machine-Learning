{
 "cells": [
  {
   "cell_type": "code",
   "execution_count": 2,
   "id": "25393134-65bd-467e-bc67-9b78473434ba",
   "metadata": {},
   "outputs": [],
   "source": [
    "import numpy as np\n",
    "import pandas as pd"
   ]
  },
  {
   "cell_type": "markdown",
   "id": "6be33805-7003-4231-a944-9aa3ab7070e6",
   "metadata": {},
   "source": [
    "## Data Types and Attributes"
   ]
  },
  {
   "cell_type": "code",
   "execution_count": 3,
   "id": "b78a46b3-f3e7-4488-99b6-bbf1e079a107",
   "metadata": {},
   "outputs": [
    {
     "data": {
      "text/plain": [
       "array([1, 2, 3])"
      ]
     },
     "execution_count": 3,
     "metadata": {},
     "output_type": "execute_result"
    }
   ],
   "source": [
    "# NumPy's main datatyepe is ndarry\n",
    "a1 = np.array([1,2,3])\n",
    "a1"
   ]
  },
  {
   "cell_type": "code",
   "execution_count": 4,
   "id": "90091fa6-2664-4d57-9160-5cc1b9bc2439",
   "metadata": {},
   "outputs": [],
   "source": [
    "a2 = np.array([[1,2.0,3.0],\n",
    "              [4,5.0,6.5]])\n"
   ]
  },
  {
   "cell_type": "code",
   "execution_count": 5,
   "id": "2ef7ee28-9c3d-4e33-b241-eb19f8217124",
   "metadata": {},
   "outputs": [],
   "source": [
    "a3 = np.array([[[1,2,3],\n",
    "                [4,5,6],\n",
    "                [7,8,9]],\n",
    "               [[10,11,12],\n",
    "                [13,14,15],\n",
    "               [16,17,18]]])"
   ]
  },
  {
   "cell_type": "code",
   "execution_count": 14,
   "id": "8a45e66a-0cc5-4674-811f-f43dd15dd8ea",
   "metadata": {},
   "outputs": [
    {
     "data": {
      "text/plain": [
       "(3,)"
      ]
     },
     "execution_count": 14,
     "metadata": {},
     "output_type": "execute_result"
    }
   ],
   "source": [
    "a1.shape"
   ]
  },
  {
   "cell_type": "code",
   "execution_count": 15,
   "id": "6505a10c-f5d9-4afa-895c-52bd7ee75b01",
   "metadata": {},
   "outputs": [
    {
     "data": {
      "text/plain": [
       "(2, 3)"
      ]
     },
     "execution_count": 15,
     "metadata": {},
     "output_type": "execute_result"
    }
   ],
   "source": [
    "a2.shape"
   ]
  },
  {
   "cell_type": "code",
   "execution_count": 16,
   "id": "afe14b30-0d1a-43ab-8092-b98698134824",
   "metadata": {},
   "outputs": [
    {
     "data": {
      "text/plain": [
       "(2, 3, 3)"
      ]
     },
     "execution_count": 16,
     "metadata": {},
     "output_type": "execute_result"
    }
   ],
   "source": [
    "a3.shape"
   ]
  },
  {
   "cell_type": "code",
   "execution_count": 17,
   "id": "8b6a5579-83f2-4643-aad3-f0da3b2c87b5",
   "metadata": {},
   "outputs": [
    {
     "data": {
      "text/plain": [
       "(1, 2, 3)"
      ]
     },
     "execution_count": 17,
     "metadata": {},
     "output_type": "execute_result"
    }
   ],
   "source": [
    "#ndim means dimension\n",
    "a1.ndim, a2.ndim, a3.ndim"
   ]
  },
  {
   "cell_type": "code",
   "execution_count": 18,
   "id": "c3ac056b-947d-472b-a590-700541776428",
   "metadata": {},
   "outputs": [
    {
     "data": {
      "text/plain": [
       "(3, 6, 18)"
      ]
     },
     "execution_count": 18,
     "metadata": {},
     "output_type": "execute_result"
    }
   ],
   "source": [
    "a1.size, a2.size, a3.size"
   ]
  },
  {
   "cell_type": "code",
   "execution_count": 19,
   "id": "1ddd6b87-9aab-4c9d-a78b-10c80fe233eb",
   "metadata": {},
   "outputs": [
    {
     "data": {
      "text/plain": [
       "(numpy.ndarray, numpy.ndarray, numpy.ndarray)"
      ]
     },
     "execution_count": 19,
     "metadata": {},
     "output_type": "execute_result"
    }
   ],
   "source": [
    "type(a1),type(a2), type(a3)"
   ]
  },
  {
   "cell_type": "code",
   "execution_count": 23,
   "id": "6f156b07-e997-4041-8c94-6a82afc2c87e",
   "metadata": {},
   "outputs": [
    {
     "data": {
      "text/html": [
       "<div>\n",
       "<style scoped>\n",
       "    .dataframe tbody tr th:only-of-type {\n",
       "        vertical-align: middle;\n",
       "    }\n",
       "\n",
       "    .dataframe tbody tr th {\n",
       "        vertical-align: top;\n",
       "    }\n",
       "\n",
       "    .dataframe thead th {\n",
       "        text-align: right;\n",
       "    }\n",
       "</style>\n",
       "<table border=\"1\" class=\"dataframe\">\n",
       "  <thead>\n",
       "    <tr style=\"text-align: right;\">\n",
       "      <th></th>\n",
       "      <th>0</th>\n",
       "      <th>1</th>\n",
       "      <th>2</th>\n",
       "    </tr>\n",
       "  </thead>\n",
       "  <tbody>\n",
       "    <tr>\n",
       "      <th>0</th>\n",
       "      <td>1.0</td>\n",
       "      <td>2.0</td>\n",
       "      <td>3.0</td>\n",
       "    </tr>\n",
       "    <tr>\n",
       "      <th>1</th>\n",
       "      <td>4.0</td>\n",
       "      <td>5.0</td>\n",
       "      <td>6.5</td>\n",
       "    </tr>\n",
       "  </tbody>\n",
       "</table>\n",
       "</div>"
      ],
      "text/plain": [
       "     0    1    2\n",
       "0  1.0  2.0  3.0\n",
       "1  4.0  5.0  6.5"
      ]
     },
     "execution_count": 23,
     "metadata": {},
     "output_type": "execute_result"
    }
   ],
   "source": [
    "# Create a DataFrame from NumPy Array\n",
    "df =pd.DataFrame(a2)\n",
    "df"
   ]
  },
  {
   "cell_type": "markdown",
   "id": "845165e5-5591-4849-9661-4e5a7d6c5f5c",
   "metadata": {},
   "source": [
    "# 2. Creating Arrays"
   ]
  },
  {
   "cell_type": "code",
   "execution_count": 4,
   "id": "3e26d635-255c-45e3-8d6e-ecc64b8822b4",
   "metadata": {},
   "outputs": [
    {
     "data": {
      "text/plain": [
       "array([1, 2, 3])"
      ]
     },
     "execution_count": 4,
     "metadata": {},
     "output_type": "execute_result"
    }
   ],
   "source": [
    "sample_array = np.array([1,2,3])\n",
    "sample_array"
   ]
  },
  {
   "cell_type": "code",
   "execution_count": 6,
   "id": "fc1d506f-0e27-4e7f-9cfa-a083e0b85ff2",
   "metadata": {},
   "outputs": [
    {
     "data": {
      "text/plain": [
       "dtype('int32')"
      ]
     },
     "execution_count": 6,
     "metadata": {},
     "output_type": "execute_result"
    }
   ],
   "source": [
    "sample_array.dtype"
   ]
  },
  {
   "cell_type": "code",
   "execution_count": 7,
   "id": "929df213-644a-4b02-b58b-f197a5f5e968",
   "metadata": {},
   "outputs": [
    {
     "data": {
      "text/plain": [
       "array([[1., 1., 1.],\n",
       "       [1., 1., 1.],\n",
       "       [1., 1., 1.]])"
      ]
     },
     "execution_count": 7,
     "metadata": {},
     "output_type": "execute_result"
    }
   ],
   "source": [
    "ones = np.ones((3,3))\n",
    "ones"
   ]
  },
  {
   "cell_type": "code",
   "execution_count": 8,
   "id": "66a02451-2108-4860-a166-6d4a322fa3b4",
   "metadata": {},
   "outputs": [
    {
     "data": {
      "text/plain": [
       "dtype('float64')"
      ]
     },
     "execution_count": 8,
     "metadata": {},
     "output_type": "execute_result"
    }
   ],
   "source": [
    "ones.dtype"
   ]
  },
  {
   "cell_type": "code",
   "execution_count": 9,
   "id": "9b68df72-f365-4b15-82a3-24f9c861df17",
   "metadata": {},
   "outputs": [
    {
     "data": {
      "text/plain": [
       "array([[0., 0., 0.],\n",
       "       [0., 0., 0.]])"
      ]
     },
     "execution_count": 9,
     "metadata": {},
     "output_type": "execute_result"
    }
   ],
   "source": [
    "zeros = np.zeros((2,3))\n",
    "zeros"
   ]
  },
  {
   "cell_type": "code",
   "execution_count": 11,
   "id": "1864a4b5-b2cb-4ea9-b2b0-c64852ed30fc",
   "metadata": {},
   "outputs": [
    {
     "data": {
      "text/plain": [
       "array([1, 3, 5, 7, 9])"
      ]
     },
     "execution_count": 11,
     "metadata": {},
     "output_type": "execute_result"
    }
   ],
   "source": [
    "range_array = np.arange(1,10,2)\n",
    "range_array"
   ]
  },
  {
   "cell_type": "code",
   "execution_count": 14,
   "id": "43f45b35-3f97-4631-9fa4-91a955fa691c",
   "metadata": {},
   "outputs": [
    {
     "data": {
      "text/plain": [
       "array([[2, 5, 1, 9],\n",
       "       [6, 2, 2, 5],\n",
       "       [7, 5, 5, 4]])"
      ]
     },
     "execution_count": 14,
     "metadata": {},
     "output_type": "execute_result"
    }
   ],
   "source": [
    "random_array = np.random.randint(0,10, size =(3,4))\n",
    "random_array"
   ]
  },
  {
   "cell_type": "code",
   "execution_count": 15,
   "id": "4b94708a-fc14-4baa-b342-8d015170020f",
   "metadata": {},
   "outputs": [
    {
     "data": {
      "text/plain": [
       "12"
      ]
     },
     "execution_count": 15,
     "metadata": {},
     "output_type": "execute_result"
    }
   ],
   "source": [
    "random_array.size"
   ]
  },
  {
   "cell_type": "code",
   "execution_count": 16,
   "id": "be98dd82-7610-446d-8b34-1f6878ef303a",
   "metadata": {},
   "outputs": [
    {
     "data": {
      "text/plain": [
       "(3, 4)"
      ]
     },
     "execution_count": 16,
     "metadata": {},
     "output_type": "execute_result"
    }
   ],
   "source": [
    "random_array.shape"
   ]
  },
  {
   "cell_type": "code",
   "execution_count": 18,
   "id": "5dee6bd0-36fa-4bcb-baab-291dfe9a1e28",
   "metadata": {},
   "outputs": [
    {
     "data": {
      "text/plain": [
       "array([[0.13687226, 0.59551183, 0.55773357],\n",
       "       [0.53261029, 0.43778132, 0.00361368],\n",
       "       [0.56545423, 0.6648425 , 0.26727327],\n",
       "       [0.39308333, 0.77902669, 0.79405915],\n",
       "       [0.22578808, 0.84864626, 0.11927275]])"
      ]
     },
     "execution_count": 18,
     "metadata": {},
     "output_type": "execute_result"
    }
   ],
   "source": [
    "random_array2 = np.random.random((5,3))\n",
    "random_array2"
   ]
  },
  {
   "cell_type": "code",
   "execution_count": 20,
   "id": "0b1423e9-af24-46c4-b3b9-e124ad30266e",
   "metadata": {},
   "outputs": [
    {
     "data": {
      "text/plain": [
       "array([[0.53828025, 0.93124821, 0.15387918],\n",
       "       [0.23123886, 0.95660893, 0.04235614],\n",
       "       [0.33135089, 0.73369163, 0.53093379],\n",
       "       [0.25699194, 0.71974287, 0.02912618],\n",
       "       [0.5445772 , 0.88931547, 0.55526308]])"
      ]
     },
     "execution_count": 20,
     "metadata": {},
     "output_type": "execute_result"
    }
   ],
   "source": [
    "random_array3 = np.random.rand(5,3)\n",
    "random_array3"
   ]
  },
  {
   "cell_type": "code",
   "execution_count": 34,
   "id": "45c3a623-d072-424b-94a4-b782dca45c2d",
   "metadata": {},
   "outputs": [
    {
     "data": {
      "text/plain": [
       "array([[7, 0, 8],\n",
       "       [4, 1, 7],\n",
       "       [1, 3, 8],\n",
       "       [9, 4, 9],\n",
       "       [9, 6, 7]])"
      ]
     },
     "execution_count": 34,
     "metadata": {},
     "output_type": "execute_result"
    }
   ],
   "source": [
    "# Pseudo-Random Numbers\n",
    "np.random.seed(seed = 120)\n",
    "# To stop the change of the Array items\n",
    "random_array4 = np.random.randint(10, size=(5,3))\n",
    "random_array4"
   ]
  },
  {
   "cell_type": "code",
   "execution_count": 39,
   "id": "dd9bfbb7-7747-4faa-a3ab-f2b74f645388",
   "metadata": {},
   "outputs": [
    {
     "data": {
      "text/plain": [
       "array([[0.22199317, 0.87073231, 0.20671916, 0.91861091],\n",
       "       [0.48841119, 0.61174386, 0.76590786, 0.51841799],\n",
       "       [0.2968005 , 0.18772123, 0.08074127, 0.7384403 ]])"
      ]
     },
     "execution_count": 39,
     "metadata": {},
     "output_type": "execute_result"
    }
   ],
   "source": [
    "np.random.seed(5)\n",
    "random_array5 = np.random.rand(3,4)\n",
    "random_array5"
   ]
  },
  {
   "cell_type": "markdown",
   "id": "ccc5d33a-e143-4a0b-bc33-f08eaa18cb46",
   "metadata": {},
   "source": [
    "## Viewing Arrays and Matricies"
   ]
  },
  {
   "cell_type": "code",
   "execution_count": 40,
   "id": "190ae4cf-0352-47c7-a91a-4c9341a5bb29",
   "metadata": {},
   "outputs": [
    {
     "data": {
      "text/plain": [
       "array([0, 1, 3, 4, 6, 7, 8, 9])"
      ]
     },
     "execution_count": 40,
     "metadata": {},
     "output_type": "execute_result"
    }
   ],
   "source": [
    "np.unique(random_array4)"
   ]
  },
  {
   "cell_type": "code",
   "execution_count": 43,
   "id": "c9e81ae8-3ded-40a9-bddf-9e8f4f69d361",
   "metadata": {},
   "outputs": [
    {
     "data": {
      "text/plain": [
       "array([[[ 1,  2,  3],\n",
       "        [ 4,  5,  6],\n",
       "        [ 7,  8,  9]],\n",
       "\n",
       "       [[10, 11, 12],\n",
       "        [13, 14, 15],\n",
       "        [16, 17, 18]]])"
      ]
     },
     "execution_count": 43,
     "metadata": {},
     "output_type": "execute_result"
    }
   ],
   "source": [
    "a3"
   ]
  },
  {
   "cell_type": "code",
   "execution_count": 44,
   "id": "a5ab4068-a747-44d6-b51d-52ad97fc6312",
   "metadata": {},
   "outputs": [
    {
     "data": {
      "text/plain": [
       "(2, 3, 3)"
      ]
     },
     "execution_count": 44,
     "metadata": {},
     "output_type": "execute_result"
    }
   ],
   "source": [
    "a3.shape"
   ]
  },
  {
   "cell_type": "code",
   "execution_count": 51,
   "id": "464b54ab-9e5c-4029-83ef-41d9be502ade",
   "metadata": {},
   "outputs": [
    {
     "data": {
      "text/plain": [
       "array([[[1, 2, 3],\n",
       "        [4, 5, 6]]])"
      ]
     },
     "execution_count": 51,
     "metadata": {},
     "output_type": "execute_result"
    }
   ],
   "source": [
    "a3[:1, :2, :3]"
   ]
  },
  {
   "cell_type": "code",
   "execution_count": 47,
   "id": "6c770132-0a3f-455f-ada0-a470f55d3d85",
   "metadata": {},
   "outputs": [
    {
     "data": {
      "text/plain": [
       "array([[[ 1,  2,  3]],\n",
       "\n",
       "       [[10, 11, 12]]])"
      ]
     },
     "execution_count": 47,
     "metadata": {},
     "output_type": "execute_result"
    }
   ],
   "source": [
    "a3[:2, :1]"
   ]
  },
  {
   "cell_type": "code",
   "execution_count": 69,
   "id": "c694991f-36c5-4a33-ac7d-4a384a7eca3a",
   "metadata": {},
   "outputs": [
    {
     "data": {
      "text/plain": [
       "array([[[[2, 4, 0, 8, 3],\n",
       "         [1, 5, 4, 3, 7],\n",
       "         [7, 0, 1, 2, 4]],\n",
       "\n",
       "        [[6, 0, 7, 3, 5],\n",
       "         [4, 5, 8, 2, 3],\n",
       "         [5, 0, 3, 0, 6]],\n",
       "\n",
       "        [[6, 5, 4, 5, 7],\n",
       "         [8, 0, 3, 3, 6],\n",
       "         [8, 4, 2, 3, 5]]],\n",
       "\n",
       "\n",
       "       [[[1, 6, 5, 0, 0],\n",
       "         [0, 6, 5, 6, 7],\n",
       "         [2, 4, 8, 1, 8]],\n",
       "\n",
       "        [[4, 4, 4, 7, 0],\n",
       "         [7, 3, 5, 3, 1],\n",
       "         [2, 5, 2, 4, 1]],\n",
       "\n",
       "        [[4, 5, 0, 1, 6],\n",
       "         [5, 7, 6, 1, 2],\n",
       "         [3, 5, 8, 3, 2]]]])"
      ]
     },
     "execution_count": 69,
     "metadata": {},
     "output_type": "execute_result"
    }
   ],
   "source": [
    "a4 = np.random.randint(9, size=(2,3,3,5))\n",
    "a4"
   ]
  },
  {
   "cell_type": "code",
   "execution_count": 65,
   "id": "f64e9082-2053-4942-abea-401528e8d0a7",
   "metadata": {},
   "outputs": [
    {
     "data": {
      "text/plain": [
       "((2, 3, 3, 4), 4)"
      ]
     },
     "execution_count": 65,
     "metadata": {},
     "output_type": "execute_result"
    }
   ],
   "source": [
    "a4.shape, a4.ndim"
   ]
  },
  {
   "cell_type": "code",
   "execution_count": 71,
   "id": "ba53ed99-0d17-41d7-90c6-c0e3757c8b9e",
   "metadata": {},
   "outputs": [
    {
     "data": {
      "text/plain": [
       "array([[[[2, 4, 0],\n",
       "         [1, 5, 4],\n",
       "         [7, 0, 1]],\n",
       "\n",
       "        [[6, 0, 7],\n",
       "         [4, 5, 8],\n",
       "         [5, 0, 3]],\n",
       "\n",
       "        [[6, 5, 4],\n",
       "         [8, 0, 3],\n",
       "         [8, 4, 2]]],\n",
       "\n",
       "\n",
       "       [[[1, 6, 5],\n",
       "         [0, 6, 5],\n",
       "         [2, 4, 8]],\n",
       "\n",
       "        [[4, 4, 4],\n",
       "         [7, 3, 5],\n",
       "         [2, 5, 2]],\n",
       "\n",
       "        [[4, 5, 0],\n",
       "         [5, 7, 6],\n",
       "         [3, 5, 8]]]])"
      ]
     },
     "execution_count": 71,
     "metadata": {},
     "output_type": "execute_result"
    }
   ],
   "source": [
    "# Get the first Three numbers of the innermost array.\n",
    "a4[:, :, :, :3]"
   ]
  },
  {
   "cell_type": "code",
   "execution_count": 85,
   "id": "ecedb2e3-7651-4be7-aee0-efa4783bccfb",
   "metadata": {},
   "outputs": [
    {
     "data": {
      "text/plain": [
       "array([[[[2, 4, 0, 8],\n",
       "         [1, 5, 4, 3]],\n",
       "\n",
       "        [[6, 0, 7, 3],\n",
       "         [4, 5, 8, 2]],\n",
       "\n",
       "        [[6, 5, 4, 5],\n",
       "         [8, 0, 3, 3]]],\n",
       "\n",
       "\n",
       "       [[[1, 6, 5, 0],\n",
       "         [0, 6, 5, 6]],\n",
       "\n",
       "        [[4, 4, 4, 7],\n",
       "         [7, 3, 5, 3]],\n",
       "\n",
       "        [[4, 5, 0, 1],\n",
       "         [5, 7, 6, 1]]]])"
      ]
     },
     "execution_count": 85,
     "metadata": {},
     "output_type": "execute_result"
    }
   ],
   "source": [
    "a4[:2, :3, :2, :4]"
   ]
  },
  {
   "cell_type": "markdown",
   "id": "1e4dbf9a-02e6-4e9d-b4ee-8ea7b7b87294",
   "metadata": {},
   "source": [
    "# Manipulating & Comparing Arrays"
   ]
  },
  {
   "cell_type": "markdown",
   "id": "83eac69b-d3da-44a4-a964-dfb7a9ede509",
   "metadata": {},
   "source": [
    "### Arithmatics"
   ]
  },
  {
   "cell_type": "code",
   "execution_count": 89,
   "id": "1c48c77a-b83c-4723-b514-d1e8171fb566",
   "metadata": {},
   "outputs": [
    {
     "data": {
      "text/plain": [
       "array([1, 2, 3])"
      ]
     },
     "execution_count": 89,
     "metadata": {},
     "output_type": "execute_result"
    }
   ],
   "source": [
    "a1"
   ]
  },
  {
   "cell_type": "code",
   "execution_count": 8,
   "id": "de81d623-dcf5-4497-a07b-b0c382b81aa6",
   "metadata": {},
   "outputs": [
    {
     "data": {
      "text/plain": [
       "array([1., 1., 1.])"
      ]
     },
     "execution_count": 8,
     "metadata": {},
     "output_type": "execute_result"
    }
   ],
   "source": [
    "ones = np.ones(3)\n",
    "ones"
   ]
  },
  {
   "cell_type": "code",
   "execution_count": 91,
   "id": "6808581e-b626-4f6d-a7ea-9bbfa6e89b35",
   "metadata": {},
   "outputs": [
    {
     "data": {
      "text/plain": [
       "array([2., 3., 4.])"
      ]
     },
     "execution_count": 91,
     "metadata": {},
     "output_type": "execute_result"
    }
   ],
   "source": [
    "a1 + ones"
   ]
  },
  {
   "cell_type": "code",
   "execution_count": 92,
   "id": "f152c3b2-5105-4e03-87e3-1f0813303ddb",
   "metadata": {},
   "outputs": [
    {
     "data": {
      "text/plain": [
       "array([0., 1., 2.])"
      ]
     },
     "execution_count": 92,
     "metadata": {},
     "output_type": "execute_result"
    }
   ],
   "source": [
    "a1 - ones"
   ]
  },
  {
   "cell_type": "code",
   "execution_count": 93,
   "id": "7a42b0e6-2572-4b7d-a632-e15b8475f601",
   "metadata": {},
   "outputs": [
    {
     "data": {
      "text/plain": [
       "array([[1. , 2. , 3. ],\n",
       "       [4. , 5. , 6.5]])"
      ]
     },
     "execution_count": 93,
     "metadata": {},
     "output_type": "execute_result"
    }
   ],
   "source": [
    "a2"
   ]
  },
  {
   "cell_type": "code",
   "execution_count": 94,
   "id": "c932c59c-7392-45d8-aff2-cd70f1fc80a7",
   "metadata": {},
   "outputs": [
    {
     "data": {
      "text/plain": [
       "array([[ 1. ,  4. ,  9. ],\n",
       "       [ 4. , 10. , 19.5]])"
      ]
     },
     "execution_count": 94,
     "metadata": {},
     "output_type": "execute_result"
    }
   ],
   "source": [
    "a1 * a2"
   ]
  },
  {
   "cell_type": "code",
   "execution_count": 6,
   "id": "32863ac5-730b-4240-b58e-e355c89633fb",
   "metadata": {},
   "outputs": [
    {
     "data": {
      "text/plain": [
       "array([[ 1.  ,  4.  ,  9.  ],\n",
       "       [16.  , 25.  , 42.25]])"
      ]
     },
     "execution_count": 6,
     "metadata": {},
     "output_type": "execute_result"
    }
   ],
   "source": [
    "a2 ** 2"
   ]
  },
  {
   "cell_type": "code",
   "execution_count": 7,
   "id": "7aad4a2f-ef71-4803-9d8e-dbcb5ef73309",
   "metadata": {},
   "outputs": [
    {
     "data": {
      "text/plain": [
       "array([[ 1.  ,  4.  ,  9.  ],\n",
       "       [16.  , 25.  , 42.25]])"
      ]
     },
     "execution_count": 7,
     "metadata": {},
     "output_type": "execute_result"
    }
   ],
   "source": [
    "np.square(a2)"
   ]
  },
  {
   "cell_type": "code",
   "execution_count": 10,
   "id": "059db90c-5fc7-4bfc-97a4-36c30313399b",
   "metadata": {},
   "outputs": [
    {
     "data": {
      "text/plain": [
       "array([2., 3., 4.])"
      ]
     },
     "execution_count": 10,
     "metadata": {},
     "output_type": "execute_result"
    }
   ],
   "source": [
    "a1 + ones"
   ]
  },
  {
   "cell_type": "code",
   "execution_count": 11,
   "id": "728e6d31-96d6-48b8-af24-bab5c7d42cf8",
   "metadata": {},
   "outputs": [
    {
     "data": {
      "text/plain": [
       "array([2., 3., 4.])"
      ]
     },
     "execution_count": 11,
     "metadata": {},
     "output_type": "execute_result"
    }
   ],
   "source": [
    "np.add(a1, ones)"
   ]
  },
  {
   "cell_type": "code",
   "execution_count": 12,
   "id": "db06442d-cd70-4ca0-852a-912dce6cf996",
   "metadata": {},
   "outputs": [
    {
     "data": {
      "text/plain": [
       "array([1, 0, 1], dtype=int32)"
      ]
     },
     "execution_count": 12,
     "metadata": {},
     "output_type": "execute_result"
    }
   ],
   "source": [
    "a1 % 2"
   ]
  },
  {
   "cell_type": "code",
   "execution_count": 13,
   "id": "1ab43259-aba9-4099-a927-920fecfd630e",
   "metadata": {},
   "outputs": [
    {
     "data": {
      "text/plain": [
       "array([0.5, 1. , 1.5])"
      ]
     },
     "execution_count": 13,
     "metadata": {},
     "output_type": "execute_result"
    }
   ],
   "source": [
    "a1/2"
   ]
  },
  {
   "cell_type": "code",
   "execution_count": 14,
   "id": "c766e28f-5a13-4f28-9288-a0af756e271b",
   "metadata": {},
   "outputs": [
    {
     "data": {
      "text/plain": [
       "array([ 2.71828183,  7.3890561 , 20.08553692])"
      ]
     },
     "execution_count": 14,
     "metadata": {},
     "output_type": "execute_result"
    }
   ],
   "source": [
    "np.exp(a1)"
   ]
  },
  {
   "cell_type": "code",
   "execution_count": 15,
   "id": "5a44756c-e539-412d-a0ac-06bb5ace6f07",
   "metadata": {},
   "outputs": [
    {
     "data": {
      "text/plain": [
       "array([0.        , 0.69314718, 1.09861229])"
      ]
     },
     "execution_count": 15,
     "metadata": {},
     "output_type": "execute_result"
    }
   ],
   "source": [
    "np.log(a1)"
   ]
  },
  {
   "cell_type": "markdown",
   "id": "e41bdb6d-93a7-4dc0-9e9b-20975114dfb1",
   "metadata": {},
   "source": [
    "### Aggregation\n",
    "Aggregation = Performing the same operation on a number of things"
   ]
  },
  {
   "cell_type": "code",
   "execution_count": 16,
   "id": "6fb13529-6f8d-47c2-8337-6abdb37e93c3",
   "metadata": {},
   "outputs": [
    {
     "data": {
      "text/plain": [
       "list"
      ]
     },
     "execution_count": 16,
     "metadata": {},
     "output_type": "execute_result"
    }
   ],
   "source": [
    "listy_list=[1,2,3]\n",
    "type(listy_list)"
   ]
  },
  {
   "cell_type": "code",
   "execution_count": 18,
   "id": "e029484c-4011-4b0b-a821-e0c4b216ce7c",
   "metadata": {},
   "outputs": [
    {
     "data": {
      "text/plain": [
       "6"
      ]
     },
     "execution_count": 18,
     "metadata": {},
     "output_type": "execute_result"
    }
   ],
   "source": [
    "sum(listy_list)"
   ]
  },
  {
   "cell_type": "code",
   "execution_count": 19,
   "id": "d78ba68b-4036-4a2d-818a-a5593a3beb9c",
   "metadata": {},
   "outputs": [
    {
     "data": {
      "text/plain": [
       "array([1, 2, 3])"
      ]
     },
     "execution_count": 19,
     "metadata": {},
     "output_type": "execute_result"
    }
   ],
   "source": [
    "a1"
   ]
  },
  {
   "cell_type": "code",
   "execution_count": 20,
   "id": "a73ca23b-b1e2-4426-af7c-90fa995fe8e1",
   "metadata": {},
   "outputs": [
    {
     "data": {
      "text/plain": [
       "6"
      ]
     },
     "execution_count": 20,
     "metadata": {},
     "output_type": "execute_result"
    }
   ],
   "source": [
    "sum(a1)"
   ]
  },
  {
   "cell_type": "code",
   "execution_count": 21,
   "id": "f0f79dc1-d749-436d-a1f0-898ff45d65eb",
   "metadata": {},
   "outputs": [
    {
     "data": {
      "text/plain": [
       "6"
      ]
     },
     "execution_count": 21,
     "metadata": {},
     "output_type": "execute_result"
    }
   ],
   "source": [
    "np.sum(a1)"
   ]
  },
  {
   "cell_type": "markdown",
   "id": "889c9237-2dd8-4b29-8c2c-bf76a7396f1f",
   "metadata": {},
   "source": [
    "### Use Python methods ('sum()') on pyhton datatypes and use NumPy methods on NumPy arrays ('np.sum()')."
   ]
  },
  {
   "cell_type": "code",
   "execution_count": 23,
   "id": "be048c87-a38f-41b3-8d07-9fe55975f8ed",
   "metadata": {},
   "outputs": [
    {
     "data": {
      "text/plain": [
       "10000"
      ]
     },
     "execution_count": 23,
     "metadata": {},
     "output_type": "execute_result"
    }
   ],
   "source": [
    "# Create a Massive NumPy Array\n",
    "massive_array = np.random.rand(10000)\n",
    "massive_array.size"
   ]
  },
  {
   "cell_type": "code",
   "execution_count": 25,
   "id": "a2c85bd5-96b7-4289-a3ff-e8afb4fa538d",
   "metadata": {},
   "outputs": [
    {
     "data": {
      "text/plain": [
       "array([0.18641287, 0.95871696, 0.56953528, 0.92205053, 0.34973642,\n",
       "       0.55459183, 0.56533684, 0.2447327 , 0.05484166, 0.96800063])"
      ]
     },
     "execution_count": 25,
     "metadata": {},
     "output_type": "execute_result"
    }
   ],
   "source": [
    "massive_array[:10]"
   ]
  },
  {
   "cell_type": "code",
   "execution_count": 28,
   "id": "6d9d5a20-da11-4f8b-ae2f-1991e64b1863",
   "metadata": {},
   "outputs": [
    {
     "name": "stdout",
     "output_type": "stream",
     "text": [
      "820 µs ± 6.58 µs per loop (mean ± std. dev. of 7 runs, 1,000 loops each)\n",
      "8.09 µs ± 199 ns per loop (mean ± std. dev. of 7 runs, 100,000 loops each)\n"
     ]
    }
   ],
   "source": [
    "%timeit sum(massive_array) # Python's sum()\n",
    "%timeit np.sum(massive_array) # NumPy's sum()"
   ]
  },
  {
   "cell_type": "code",
   "execution_count": 29,
   "id": "5eb2be61-ce61-44cf-a528-b1f9c1c2c145",
   "metadata": {},
   "outputs": [
    {
     "data": {
      "text/plain": [
       "array([[1. , 2. , 3. ],\n",
       "       [4. , 5. , 6.5]])"
      ]
     },
     "execution_count": 29,
     "metadata": {},
     "output_type": "execute_result"
    }
   ],
   "source": [
    "a2"
   ]
  },
  {
   "cell_type": "code",
   "execution_count": 37,
   "id": "8b8ed9d6-3966-43e0-8198-f10f4787b4dc",
   "metadata": {},
   "outputs": [
    {
     "data": {
      "text/plain": [
       "3.5833333333333335"
      ]
     },
     "execution_count": 37,
     "metadata": {},
     "output_type": "execute_result"
    }
   ],
   "source": [
    "np.mean(a2)"
   ]
  },
  {
   "cell_type": "code",
   "execution_count": 38,
   "id": "d37e344a-4ff3-4e4d-8bed-eb73bf6ff8b2",
   "metadata": {},
   "outputs": [
    {
     "data": {
      "text/plain": [
       "6.5"
      ]
     },
     "execution_count": 38,
     "metadata": {},
     "output_type": "execute_result"
    }
   ],
   "source": [
    "np.max(a2)"
   ]
  },
  {
   "cell_type": "code",
   "execution_count": 39,
   "id": "a5b68850-2b6b-4a63-98b8-9a618e0d7792",
   "metadata": {},
   "outputs": [
    {
     "data": {
      "text/plain": [
       "1.0"
      ]
     },
     "execution_count": 39,
     "metadata": {},
     "output_type": "execute_result"
    }
   ],
   "source": [
    "np.min(a2)"
   ]
  },
  {
   "cell_type": "code",
   "execution_count": 40,
   "id": "9e84bb9c-1760-4155-9e57-e822e5169a9f",
   "metadata": {},
   "outputs": [
    {
     "data": {
      "text/plain": [
       "1.8352262954621035"
      ]
     },
     "execution_count": 40,
     "metadata": {},
     "output_type": "execute_result"
    }
   ],
   "source": [
    "# Standard Deviation = a measure of how spread out a group of numbers is from the mean.\n",
    "np.std(a2)"
   ]
  },
  {
   "cell_type": "code",
   "execution_count": 41,
   "id": "c6b1e5cb-1bac-40bd-8651-d780dda65e69",
   "metadata": {},
   "outputs": [
    {
     "data": {
      "text/plain": [
       "3.368055555555556"
      ]
     },
     "execution_count": 41,
     "metadata": {},
     "output_type": "execute_result"
    }
   ],
   "source": [
    "# Variance = Measure of the average degree to which each number is different from the mean.\n",
    "# Higher Variance = Wider range of number.\n",
    "# Lower Variance  = Lower range of number.\n",
    "np.var(a2)"
   ]
  },
  {
   "cell_type": "code",
   "execution_count": 42,
   "id": "54f44926-1d7c-4bea-8360-8f8d30dc35b2",
   "metadata": {},
   "outputs": [
    {
     "data": {
      "text/plain": [
       "1.8352262954621035"
      ]
     },
     "execution_count": 42,
     "metadata": {},
     "output_type": "execute_result"
    }
   ],
   "source": [
    "# Standard Deviation = Square root of Variance\n",
    "np.sqrt(np.var(a2))"
   ]
  },
  {
   "cell_type": "code",
   "execution_count": null,
   "id": "ce87bff5-552e-470d-8fab-76b1eda56e7f",
   "metadata": {},
   "outputs": [],
   "source": []
  }
 ],
 "metadata": {
  "kernelspec": {
   "display_name": "Python 3 (ipykernel)",
   "language": "python",
   "name": "python3"
  },
  "language_info": {
   "codemirror_mode": {
    "name": "ipython",
    "version": 3
   },
   "file_extension": ".py",
   "mimetype": "text/x-python",
   "name": "python",
   "nbconvert_exporter": "python",
   "pygments_lexer": "ipython3",
   "version": "3.9.18"
  }
 },
 "nbformat": 4,
 "nbformat_minor": 5
}
